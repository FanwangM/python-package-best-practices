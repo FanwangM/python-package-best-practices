{
 "cells": [
  {
   "cell_type": "code",
   "execution_count": null,
   "metadata": {},
   "outputs": [],
   "source": []
  },
  {
   "cell_type": "code",
   "execution_count": null,
   "metadata": {},
   "outputs": [],
   "source": []
  },
  {
   "cell_type": "code",
   "execution_count": null,
   "metadata": {},
   "outputs": [],
   "source": []
  },
  {
   "attachments": {},
   "cell_type": "markdown",
   "metadata": {},
   "source": [
    "```\n",
    "\n",
    "~~~\n",
    "CODE\n",
    "~~~\n",
    "{: .language-bash}\n",
    "\n",
    "\n",
    "````{tab-set-code}\n",
    "\n",
    "```{code-block} shell\n",
    "CODE\n",
    "```\n",
    "````\n",
    "\n",
    "```"
   ]
  },
  {
   "cell_type": "code",
   "execution_count": 8,
   "metadata": {},
   "outputs": [],
   "source": [
    "with open(\"05-package-structure.md\") as f:\n",
    "    text = f.read()"
   ]
  },
  {
   "cell_type": "code",
   "execution_count": 9,
   "metadata": {},
   "outputs": [
    {
     "name": "stdout",
     "output_type": "stream",
     "text": [
      "eturn ax\n",
      "~~~\n",
      "{: .language-python}\n",
      "\n",
      "\n",
      "### Molecule\n",
      "Our last function is `buil\n"
     ]
    }
   ],
   "source": [
    "print(text[10125:10200])"
   ]
  },
  {
   "cell_type": "code",
   "execution_count": 10,
   "metadata": {},
   "outputs": [],
   "source": [
    "import re"
   ]
  },
  {
   "cell_type": "code",
   "execution_count": 11,
   "metadata": {},
   "outputs": [],
   "source": [
    "old_block = \"\"\">.{0,2} (~~~\n",
    "(.+?)\n",
    ">.{0,2} ~~~\n",
    "{: .(.+?)})\n",
    "\"\"\"\n",
    "\n",
    "old_block = \"\"\"(~~~\n",
    "(.+?)\n",
    "~~~\n",
    "{: .(.+?)})\n",
    "\"\"\"\n",
    "\n",
    "pat = re.compile(old_block, re.DOTALL)"
   ]
  },
  {
   "cell_type": "code",
   "execution_count": 12,
   "metadata": {},
   "outputs": [],
   "source": [
    "#pat = re.compile(\">.{1,2}\\s+~~~\")\n",
    "#pat.findall(text)"
   ]
  },
  {
   "cell_type": "code",
   "execution_count": 13,
   "metadata": {},
   "outputs": [
    {
     "name": "stdout",
     "output_type": "stream",
     "text": [
      "(\"~~~\\n.\\n├── CODE_OF_CONDUCT.md              <- Code of Conduct for developers and users\\n├── LICENSE                         <- License file\\n├── MANIFEST.in                     <- Packaging information for pip\\n├── README.md                       <- Description of project which GitHub will render\\n├── molecool                        <- Basic Python Package import file\\n│   ├── __init__.py                 <- Basic Python Package import file\\n│   ├── functions.py                <- Starting package module\\n│   ├── data                        <- Sample additional data (non-code) which can be packaged. Just an example, delete in production\\n│   │   ├── README.md\\n│   │   └── look_and_say.dat\\n│   └── tests                       <- Unit test directory with sample tests\\n│       ├── __init__.py\\n│       └── test_molecool.py\\n├── devtools                        <- Deployment, packaging, and CI helpers directory\\n│   ├── README.md\\n│   ├── conda-envs                  <- Conda environments for testing\\n│   │   └── test_env.yaml\\n│   ├── legacy-miniconda-setup      <- Legacy Travis CI Helper, will likely be removed in later version\\n│   │   └── before_install.sh\\n│   └── scripts\\n│       └── create_conda_env.py     <- OS agnostic Helper script to make conda environments based on simple flags\\n├── docs                            <- Documentation template folder with many settings already filled in\\n│   ├── Makefile\\n│   ├── README.md                   <- Instructions on how to build the docs\\n│   ├── _static\\n│   │   └── README.md\\n│   ├── _templates\\n│   │   └── README.md\\n│   ├── api.rst\\n│   ├── conf.py\\n│   ├── getting_started.rst\\n│   ├── index.rst\\n│   ├── make.bat\\n│   └── requirements.yaml           <- Documenation building specific requirements. Usually a smaller set than the main program\\n├── readthedocs.yml\\n├── pyproject.toml                  <- Generic Python build system configuration (PEP-517).\\n├── setup.cfg                       <- Near-master config file to make house INI-like settings for Coverage, Flake8, YAPF, etc.\\n├── setup.py                        <- Your package's setup file for installing with additional options that can be set\\n├── .codecov.yml                    <- Codecov config to help reduce its verbosity to more reasonable levels\\n├── .github                         <- GitHub hooks for user contribution, pull request guides and GitHub Actions CI\\n│   ├── CONTRIBUTING.md\\n│   ├── PULL_REQUEST_TEMPLATE.md\\n│   └── workflows\\n│       └── CI.yaml\\n├── .gitignore                      <- Stock helper file telling git what file name patterns to ignore when adding files\\n└── .lgtm.yml\\n~~~\\n{: .output}\", \".\\n├── CODE_OF_CONDUCT.md              <- Code of Conduct for developers and users\\n├── LICENSE                         <- License file\\n├── MANIFEST.in                     <- Packaging information for pip\\n├── README.md                       <- Description of project which GitHub will render\\n├── molecool                        <- Basic Python Package import file\\n│   ├── __init__.py                 <- Basic Python Package import file\\n│   ├── functions.py                <- Starting package module\\n│   ├── data                        <- Sample additional data (non-code) which can be packaged. Just an example, delete in production\\n│   │   ├── README.md\\n│   │   └── look_and_say.dat\\n│   └── tests                       <- Unit test directory with sample tests\\n│       ├── __init__.py\\n│       └── test_molecool.py\\n├── devtools                        <- Deployment, packaging, and CI helpers directory\\n│   ├── README.md\\n│   ├── conda-envs                  <- Conda environments for testing\\n│   │   └── test_env.yaml\\n│   ├── legacy-miniconda-setup      <- Legacy Travis CI Helper, will likely be removed in later version\\n│   │   └── before_install.sh\\n│   └── scripts\\n│       └── create_conda_env.py     <- OS agnostic Helper script to make conda environments based on simple flags\\n├── docs                            <- Documentation template folder with many settings already filled in\\n│   ├── Makefile\\n│   ├── README.md                   <- Instructions on how to build the docs\\n│   ├── _static\\n│   │   └── README.md\\n│   ├── _templates\\n│   │   └── README.md\\n│   ├── api.rst\\n│   ├── conf.py\\n│   ├── getting_started.rst\\n│   ├── index.rst\\n│   ├── make.bat\\n│   └── requirements.yaml           <- Documenation building specific requirements. Usually a smaller set than the main program\\n├── readthedocs.yml\\n├── pyproject.toml                  <- Generic Python build system configuration (PEP-517).\\n├── setup.cfg                       <- Near-master config file to make house INI-like settings for Coverage, Flake8, YAPF, etc.\\n├── setup.py                        <- Your package's setup file for installing with additional options that can be set\\n├── .codecov.yml                    <- Codecov config to help reduce its verbosity to more reasonable levels\\n├── .github                         <- GitHub hooks for user contribution, pull request guides and GitHub Actions CI\\n│   ├── CONTRIBUTING.md\\n│   ├── PULL_REQUEST_TEMPLATE.md\\n│   └── workflows\\n│       └── CI.yaml\\n├── .gitignore                      <- Stock helper file telling git what file name patterns to ignore when adding files\\n└── .lgtm.yml\", 'output')\n"
     ]
    }
   ],
   "source": [
    "results = pat.findall(text)\n",
    "print(results[0])"
   ]
  },
  {
   "cell_type": "code",
   "execution_count": 14,
   "metadata": {},
   "outputs": [],
   "source": [
    "#text"
   ]
  },
  {
   "cell_type": "code",
   "execution_count": 15,
   "metadata": {},
   "outputs": [],
   "source": [
    "from string import Template\n",
    "\n",
    "new_block = Template(\"\"\"````{tab-set-code} \n",
    "\n",
    "```{code-block} $language\n",
    "$code\n",
    "```\n",
    "````\n",
    "\"\"\")"
   ]
  },
  {
   "cell_type": "code",
   "execution_count": 16,
   "metadata": {},
   "outputs": [],
   "source": [
    "for result in results:\n",
    "    # Get the language\n",
    "    # print(result)\n",
    "    if \"language\" in result[2]:\n",
    "        language = result[2].split(\"-\")[1]\n",
    "    else:\n",
    "        language = result[2]\n",
    "    \n",
    "    if language == \"bash\":\n",
    "        language = \"shell\"\n",
    "\n",
    "    code = result[1]\n",
    "\n",
    "    if language == \"shell\":\n",
    "        code.replace(\"$\", \"\")\n",
    "    \n",
    "    new_string = new_block.substitute(language=language, code=code)\n",
    "\n",
    "    text = text.replace(result[0], new_string)"
   ]
  },
  {
   "cell_type": "code",
   "execution_count": 17,
   "metadata": {},
   "outputs": [],
   "source": [
    "with open(\"05-package-structure.md\", \"w+\") as f:\n",
    "    f.write(text)"
   ]
  },
  {
   "cell_type": "code",
   "execution_count": null,
   "metadata": {},
   "outputs": [],
   "source": []
  }
 ],
 "metadata": {
  "kernelspec": {
   "display_name": "molssi-training",
   "language": "python",
   "name": "python3"
  },
  "language_info": {
   "codemirror_mode": {
    "name": "ipython",
    "version": 3
   },
   "file_extension": ".py",
   "mimetype": "text/x-python",
   "name": "python",
   "nbconvert_exporter": "python",
   "pygments_lexer": "ipython3",
   "version": "3.11.0"
  },
  "orig_nbformat": 4,
  "vscode": {
   "interpreter": {
    "hash": "16d4a7bb199d969b1271ebe46f77414b0d9cd01b3c3983c2b2742fc6cd4503d3"
   }
  }
 },
 "nbformat": 4,
 "nbformat_minor": 2
}
